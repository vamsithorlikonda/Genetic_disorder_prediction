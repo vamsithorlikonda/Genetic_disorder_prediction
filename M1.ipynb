{
 "cells": [
  {
   "cell_type": "markdown",
   "id": "56e87435",
   "metadata": {},
   "source": [
    "# Data preprocessing"
   ]
  },
  {
   "cell_type": "code",
   "execution_count": null,
   "id": "d05f9bbb",
   "metadata": {
    "scrolled": true
   },
   "outputs": [],
   "source": [
    "#Import necessary packages\n",
    "import pandas as pd\n",
    "import numpy as np\n",
    "import matplotlib.pyplot as plt\n",
    "import warnings"
   ]
  },
  {
   "cell_type": "code",
   "execution_count": null,
   "id": "15852df6",
   "metadata": {},
   "outputs": [],
   "source": [
    "# Ignore the unnecssary warnings ( like software update, bugs, and so on so fourth)\n",
    "warnings.filterwarnings('ignore')"
   ]
  },
  {
   "cell_type": "code",
   "execution_count": null,
   "id": "4b4d8c9b",
   "metadata": {},
   "outputs": [],
   "source": [
    "# Set the display max columns datasets\n",
    "pd.set_option('display.max_columns',None)"
   ]
  },
  {
   "cell_type": "code",
   "execution_count": null,
   "id": "e8954ede",
   "metadata": {},
   "outputs": [],
   "source": [
    "# Read the dataset\n",
    "data1 = pd.read_csv('datasets.csv')"
   ]
  },
  {
   "cell_type": "code",
   "execution_count": null,
   "id": "13658c9d",
   "metadata": {},
   "outputs": [],
   "source": [
    "# Check the top values\n",
    "data1.head()"
   ]
  },
  {
   "cell_type": "code",
   "execution_count": null,
   "id": "30bd1f03",
   "metadata": {},
   "outputs": [],
   "source": [
    "# Check the null value\n",
    "data1.isnull()"
   ]
  },
  {
   "cell_type": "code",
   "execution_count": null,
   "id": "d594b83d",
   "metadata": {},
   "outputs": [],
   "source": [
    "# Check the notapplicable value\n",
    "data1.isna().sum()"
   ]
  },
  {
   "cell_type": "code",
   "execution_count": null,
   "id": "779915e0",
   "metadata": {},
   "outputs": [],
   "source": [
    "# Remove the null values\n",
    "data = data1.dropna()"
   ]
  },
  {
   "cell_type": "code",
   "execution_count": null,
   "id": "e66e6fa2",
   "metadata": {},
   "outputs": [],
   "source": [
    "# Check the total number of null values.\n",
    "data.isnull().sum()"
   ]
  },
  {
   "cell_type": "code",
   "execution_count": null,
   "id": "94ab3347",
   "metadata": {},
   "outputs": [],
   "source": [
    "# Remove unwanted features in this dataset.\n",
    "del data['Patient Id']\n",
    "del data['Family Name']\n",
    "del data[\"Father's name\"]\n",
    "del data[\"Father's age\"]\n",
    "del data[\"Institute Name\"]\n",
    "del data['Location of Institute']\n",
    "del data['Status']\n",
    "del data['Birth asphyxia']\n",
    "del data['H/O radiation exposure (x-ray)']\n",
    "del data['History of anomalies in previous pregnancies']\n",
    "del data['No. of previous abortion']\n",
    "del data['Birth defects']\n",
    "del data['Test 1']\n",
    "del data['Test 2']\n",
    "del data['Test 3']\n",
    "del data['Test 4']\n",
    "del data['Test 5']\n",
    "del data['Symptom 1']\n",
    "del data['Symptom 2']\n",
    "del data['Symptom 3']\n",
    "del data['Symptom 4']\n",
    "del data['Symptom 5']\n",
    "del data['Patient First Name']\n",
    "del data[\"Mother's age\"]\n",
    "del data[\"Autopsy shows birth defect (if applicable)\"]\n",
    "del data[\"Place of birth\"]\n"
   ]
  },
  {
   "cell_type": "code",
   "execution_count": null,
   "id": "cff83fdb",
   "metadata": {},
   "outputs": [],
   "source": [
    "# Check the head values\n",
    "data.head()"
   ]
  },
  {
   "cell_type": "code",
   "execution_count": null,
   "id": "402b9d14",
   "metadata": {},
   "outputs": [],
   "source": [
    "# Transform the datasets  string value into integers values or float value(Label encoder)\n",
    "from sklearn.preprocessing import LabelEncoder\n",
    "\n",
    "le = LabelEncoder()\n",
    "col = [\"Genes in mother's side\",'White Blood cell count (thousand per microliter)', 'Paternal gene','Blood cell count (mcL)', 'Respiratory Rate (breaths/min)', 'Heart Rate (rates/min','Parental consent', 'Follow-up', 'Gender', 'Folic acid details (peri-conceptional)','H/O serious maternal illness', 'H/O substance abuse', 'Assisted conception IVF/ART', 'Blood test result', 'Genetic Disorder', 'Disorder Subclass', 'Inherited from father', 'Maternal gene']\n",
    "\n",
    "for i in col:\n",
    "    data[i] = le.fit_transform(data[i]).astype(int)"
   ]
  },
  {
   "cell_type": "code",
   "execution_count": null,
   "id": "7f7925d8",
   "metadata": {},
   "outputs": [],
   "source": [
    "# Check the data relationships\n",
    "data.corr()"
   ]
  },
  {
   "cell_type": "code",
   "execution_count": null,
   "id": "9c3b8734",
   "metadata": {},
   "outputs": [],
   "source": [
    "# Check the unique values in specific columns\n",
    "data['Genetic Disorder'].unique()"
   ]
  },
  {
   "cell_type": "code",
   "execution_count": null,
   "id": "992b1536",
   "metadata": {},
   "outputs": [],
   "source": [
    "# Check the unique values in specific columns\n",
    "data['Disorder Subclass'].unique()"
   ]
  },
  {
   "cell_type": "code",
   "execution_count": null,
   "id": "16a21657",
   "metadata": {},
   "outputs": [],
   "source": [
    "# Describe the data in statastical manner\n",
    "data.describe()"
   ]
  },
  {
   "cell_type": "code",
   "execution_count": null,
   "id": "5fb9789b",
   "metadata": {},
   "outputs": [],
   "source": [
    "# Check the number of dimension of the dataset\n",
    "data.ndim"
   ]
  },
  {
   "cell_type": "code",
   "execution_count": null,
   "id": "07a145c1",
   "metadata": {},
   "outputs": [],
   "source": []
  }
 ],
 "metadata": {
  "kernelspec": {
   "display_name": "Python 3 (ipykernel)",
   "language": "python",
   "name": "python3"
  },
  "language_info": {
   "codemirror_mode": {
    "name": "ipython",
    "version": 3
   },
   "file_extension": ".py",
   "mimetype": "text/x-python",
   "name": "python",
   "nbconvert_exporter": "python",
   "pygments_lexer": "ipython3",
   "version": "3.10.9"
  }
 },
 "nbformat": 4,
 "nbformat_minor": 5
}
