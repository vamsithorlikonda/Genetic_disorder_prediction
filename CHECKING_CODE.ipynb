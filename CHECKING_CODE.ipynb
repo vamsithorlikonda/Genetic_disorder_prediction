{
 "cells": [
  {
   "cell_type": "markdown",
   "id": "39f6e642",
   "metadata": {},
   "source": [
    "checking code"
   ]
  },
  {
   "cell_type": "code",
   "execution_count": null,
   "id": "a01b1b68-45b5-48e3-85d1-e4c388f927be",
   "metadata": {},
   "outputs": [],
   "source": [
    "import pandas as pd\n",
    "import joblib\n",
    "import warnings\n",
    "warnings.filterwarnings(\"ignore\")\n",
    "\n",
    "model = joblib.load('BaggingClassifierModel.pkl')\n",
    "\n",
    "\n",
    "def get_user_input():\n",
    "    \n",
    "    input_data = {\n",
    "        'Patient Age': int(input(\"Enter the age of the patient: \")),\n",
    "        \"Genes in mother's side\": int(input(\"Genes in mother's side (0 for No, 1 for Yes): \")),\n",
    "        'Inherited from father': int(input(\"Inherited from father (0 for No, 1 for Yes): \")),\n",
    "        'Maternal gene': int(input(\"Maternal gene (0 for No, 1 for Yes): \")),\n",
    "        'Paternal gen# checking codee': int(input(\"Paternal gene (0 for No, 1 for Yes): \")),\n",
    "        'Blood cell count (mcL)': float(input(\"Enter the blood cell count (mcL): \")),\n",
    "        'Respiratory Rate (breaths/min)': int(input(\"Enter the respiratory rate (breaths/min): \")),\n",
    "        'Heart Rate (rates/min': int(input(\"Enter the heart rate (rates/min): \")),\n",
    "        'Parental consent': int(input(\"Parental consent (0 for No, 1 for Yes): \")),\n",
    "        'Follow-up': int(input(\"Follow-up (0 for No, 1 for Yes): \")),\n",
    "        'Gender': int(input(\"Gender (0 for Female, 1 for Male): \")),\n",
    "        'Folic acid details (peri-conceptional)': int(input(\"Folic acid details (0 for No, 1 for Yes): \")),\n",
    "        'H/O serious maternal illness': int(input(\"H/O serious maternal illness (0 for No, 1 for Yes): \")),\n",
    "        'H/O substance abuse': int(input(\"H/O substance abuse (0 for No, 1 for Yes): \")),\n",
    "        'Assisted conception IVF/ART': int(input(\"Assisted conception IVF/ART (0 for No, 1 for Yes): \")),\n",
    "        'White Blood cell count (thousand per microliter)': float(input(\"Enter the white blood cell count (thousand per microliter): \")),\n",
    "        'Blood test result': int(input(\"Blood test result (0 for Normal, 1 for Abnormal): \"))\n",
    "    }\n",
    "    return input_data\n",
    "\n",
    "\n",
    "def predict_disorder(input_data):\n",
    "  \n",
    "    input_df = pd.DataFrame([input_data])\n",
    "\n",
    "   \n",
    "    prediction = model.predict(input_df)\n",
    "\n",
    "    if prediction== 0:\n",
    "        output='Mitochondrial genetic inheritance disorders'\n",
    "    elif prediction== 1:\n",
    "        output='Multifactorial genetic inheritance disorders'\n",
    "    elif prediction==2:\n",
    "        output='Single-gene inheritance diseases'        \n",
    "   \n",
    "    print(\"\\nThe predicted genetic disorder is:\", output)\n",
    "\n",
    "user_input = get_user_input()\n",
    "\n",
    "predict_disorder(user_input)\n"
   ]
  },
  {
   "cell_type": "code",
   "execution_count": null,
   "id": "6c18d229-1ead-4c85-882d-b2113b3406b8",
   "metadata": {},
   "outputs": [],
   "source": []
  }
 ],
 "metadata": {
  "kernelspec": {
   "display_name": "Python 3 (ipykernel)",
   "language": "python",
   "name": "python3"
  },
  "language_info": {
   "codemirror_mode": {
    "name": "ipython",
    "version": 3
   },
   "file_extension": ".py",
   "mimetype": "text/x-python",
   "name": "python",
   "nbconvert_exporter": "python",
   "pygments_lexer": "ipython3",
   "version": "3.10.9"
  }
 },
 "nbformat": 4,
 "nbformat_minor": 5
}
