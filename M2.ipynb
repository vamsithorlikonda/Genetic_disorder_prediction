{
 "cells": [
  {
   "cell_type": "markdown",
   "id": "77a6b95b",
   "metadata": {},
   "source": [
    "# Data visualization"
   ]
  },
  {
   "cell_type": "code",
   "execution_count": null,
   "id": "249df74c",
   "metadata": {},
   "outputs": [],
   "source": [
    "# Import the neccessary packages\n",
    "import matplotlib.pyplot as plt\n",
    "import pandas as pd\n",
    "import seaborn as sns\n",
    "import numpy"
   ]
  },
  {
   "cell_type": "code",
   "execution_count": null,
   "id": "e5c6bbf2",
   "metadata": {},
   "outputs": [],
   "source": [
    "# Ignore the unnecssary warnings ( like software update, bugs, and so on so fourth)\n",
    "import warnings\n",
    "warnings.filterwarnings('ignore')"
   ]
  },
  {
   "cell_type": "code",
   "execution_count": null,
   "id": "49ee5a15",
   "metadata": {},
   "outputs": [],
   "source": [
    "# Set the display max columns datasets\n",
    "pd.set_option('display.max_columns',None)"
   ]
  },
  {
   "cell_type": "code",
   "execution_count": null,
   "id": "44c8044c",
   "metadata": {},
   "outputs": [],
   "source": [
    "# Read the dataset\n",
    "data = pd.read_csv('datasets.csv')"
   ]
  },
  {
   "cell_type": "code",
   "execution_count": null,
   "id": "0a27918d",
   "metadata": {},
   "outputs": [],
   "source": [
    "# Remove unwanted features in this dataset.\n",
    "del data['Patient Id']\n",
    "del data['Family Name']\n",
    "del data[\"Father's name\"]\n",
    "del data[\"Father's age\"]\n",
    "del data[\"Institute Name\"]\n",
    "del data['Location of Institute']\n",
    "del data['Status']\n",
    "del data['Birth asphyxia']\n",
    "del data['H/O radiation exposure (x-ray)']\n",
    "del data['History of anomalies in previous pregnancies']\n",
    "del data['No. of previous abortion']\n",
    "del data['Birth defects']\n",
    "del data['Test 1']\n",
    "del data['Test 2']\n",
    "del data['Test 3']\n",
    "del data['Test 4']\n",
    "del data['Test 5']\n",
    "del data['Symptom 1']\n",
    "del data['Symptom 2']\n",
    "del data['Symptom 3']\n",
    "del data['Symptom 4']\n",
    "del data['Symptom 5']\n",
    "del data['Patient First Name']\n",
    "del data[\"Mother's age\"]\n",
    "del data[\"Autopsy shows birth defect (if applicable)\"]\n",
    "del data[\"Place of birth\"]\n",
    "del data[\"Disorder Subclass\"]"
   ]
  },
  {
   "cell_type": "code",
   "execution_count": null,
   "id": "4a2a9990",
   "metadata": {
    "scrolled": false
   },
   "outputs": [],
   "source": [
    "# Check the top values\n",
    "data.head()"
   ]
  },
  {
   "cell_type": "code",
   "execution_count": null,
   "id": "4911e309",
   "metadata": {},
   "outputs": [],
   "source": [
    "# Remove the null values\n",
    "df = data.dropna()"
   ]
  },
  {
   "cell_type": "code",
   "execution_count": null,
   "id": "dd243821",
   "metadata": {},
   "outputs": [],
   "source": [
    "# Check the total number of null values.\n",
    "df.isnull().sum()"
   ]
  },
  {
   "cell_type": "code",
   "execution_count": null,
   "id": "3a7808e3",
   "metadata": {},
   "outputs": [],
   "source": [
    "# Transform the datasets  string value into integers values or float value(Label encoder)\n",
    "from sklearn.preprocessing import LabelEncoder\n",
    "\n",
    "le = LabelEncoder()\n",
    "\n",
    "col = [\"Patient Age\", \"Genes in mother's side\",'White Blood cell count (thousand per microliter)', 'Paternal gene','Blood cell count (mcL)', 'Respiratory Rate (breaths/min)', 'Heart Rate (rates/min','Parental consent', 'Follow-up', 'Gender', 'Folic acid details (peri-conceptional)','H/O serious maternal illness', 'H/O substance abuse', 'Assisted conception IVF/ART', 'Blood test result', 'Genetic Disorder','Inherited from father', 'Maternal gene']\n",
    "\n",
    "for i in col:\n",
    "    df[i] = le.fit_transform(df[i]).astype(int)"
   ]
  },
  {
   "cell_type": "code",
   "execution_count": null,
   "id": "a60113ea",
   "metadata": {},
   "outputs": [],
   "source": [
    "# Check the data relationships\n",
    "df.head()"
   ]
  },
  {
   "cell_type": "code",
   "execution_count": null,
   "id": "b6d2a223",
   "metadata": {},
   "outputs": [],
   "source": [
    "# Check the unique values in specific columns\n",
    "data['Genetic Disorder'].unique()"
   ]
  },
  {
   "cell_type": "code",
   "execution_count": null,
   "id": "a18a4e2b",
   "metadata": {},
   "outputs": [],
   "source": [
    "#Histogram\n",
    "data['Genetic Disorder'].hist(figsize=(10,5), color='y', alpha=1)\n",
    "plt.xlabel('Genetic Disorder rate')\n",
    "plt.ylabel('count')\n",
    "plt.title('Total Genetic Disorder rate')"
   ]
  },
  {
   "cell_type": "code",
   "execution_count": null,
   "id": "c89ad0b7",
   "metadata": {},
   "outputs": [],
   "source": [
    "# Using heatmap to check the relationship between the each columns\n",
    "fig, ax = plt.subplots(figsize=(25,12))\n",
    "sns.heatmap(df.corr(),annot = True, cmap = 'flare',ax=ax)\n",
    "#YlGnBu, Red, tab10, rocket, mako, flare, crest, magma, viridis, cubehelix, YlOrBr, vlag, icefire, Spectral, coolwarm, Blues"
   ]
  },
  {
   "cell_type": "code",
   "execution_count": null,
   "id": "d38ad8e3",
   "metadata": {},
   "outputs": [],
   "source": [
    "# Check the outlier of this dataset using boxplot\n",
    "plt.boxplot(df['Patient Age'])\n",
    "plt.show()"
   ]
  },
  {
   "cell_type": "code",
   "execution_count": null,
   "id": "8cdf3614",
   "metadata": {},
   "outputs": [],
   "source": [
    "# Data Distribution plot\n",
    "fig, ax = plt.subplots(figsize=(10,5))\n",
    "sns.stripplot(y = df['Genetic Disorder'], x = df['Patient Age'], ax=ax)\n",
    "plt.title(\"Age wise Genetic Disorder stats\" )\n",
    "plt.show()"
   ]
  },
  {
   "cell_type": "code",
   "execution_count": null,
   "id": "3f4b49b3",
   "metadata": {
    "scrolled": false
   },
   "outputs": [],
   "source": [
    "# Histogram of the project.\n",
    "df.hist(figsize=(15,55), color='g',layout=(15,4))\n",
    "plt.show()"
   ]
  },
  {
   "cell_type": "code",
   "execution_count": null,
   "id": "05b23e2b",
   "metadata": {},
   "outputs": [],
   "source": []
  }
 ],
 "metadata": {
  "kernelspec": {
   "display_name": "Python 3 (ipykernel)",
   "language": "python",
   "name": "python3"
  },
  "language_info": {
   "codemirror_mode": {
    "name": "ipython",
    "version": 3
   },
   "file_extension": ".py",
   "mimetype": "text/x-python",
   "name": "python",
   "nbconvert_exporter": "python",
   "pygments_lexer": "ipython3",
   "version": "3.10.9"
  }
 },
 "nbformat": 4,
 "nbformat_minor": 5
}
