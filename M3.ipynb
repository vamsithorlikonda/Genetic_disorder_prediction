{
 "cells": [
  {
   "cell_type": "markdown",
   "id": "0a1e8902",
   "metadata": {},
   "source": [
    "# Model Building"
   ]
  },
  {
   "cell_type": "code",
   "execution_count": null,
   "id": "249df74c",
   "metadata": {},
   "outputs": [],
   "source": [
    "# Import the neccessary packages\n",
    "import matplotlib.pyplot as plt\n",
    "import pandas as pd\n",
    "import seaborn as sns\n",
    "import numpy"
   ]
  },
  {
   "cell_type": "code",
   "execution_count": null,
   "id": "e5c6bbf2",
   "metadata": {},
   "outputs": [],
   "source": [
    "# Ignore the unnecssary warnings ( like software update, bugs, and so on so fourth)\n",
    "import warnings\n",
    "warnings.filterwarnings('ignore')"
   ]
  },
  {
   "cell_type": "code",
   "execution_count": null,
   "id": "49ee5a15",
   "metadata": {},
   "outputs": [],
   "source": [
    "# Set the display max columns datasets\n",
    "pd.set_option('display.max_columns',None)"
   ]
  },
  {
   "cell_type": "code",
   "execution_count": null,
   "id": "44c8044c",
   "metadata": {},
   "outputs": [],
   "source": [
    "# Read the dataset\n",
    "data = pd.read_csv('datasets.csv')"
   ]
  },
  {
   "cell_type": "code",
   "execution_count": null,
   "id": "0a27918d",
   "metadata": {},
   "outputs": [],
   "source": [
    "# Remove unwanted features in this dataset.\n",
    "del data['Patient Id']\n",
    "del data['Family Name']\n",
    "del data[\"Father's name\"]\n",
    "del data[\"Father's age\"]\n",
    "del data[\"Institute Name\"]\n",
    "del data['Location of Institute']\n",
    "del data['Status']\n",
    "del data['Birth asphyxia']\n",
    "del data['H/O radiation exposure (x-ray)']\n",
    "del data['History of anomalies in previous pregnancies']\n",
    "del data['No. of previous abortion']\n",
    "del data['Birth defects']\n",
    "del data['Test 1']\n",
    "del data['Test 2']\n",
    "del data['Test 3']\n",
    "del data['Test 4']\n",
    "del data['Test 5']\n",
    "del data['Symptom 1']\n",
    "del data['Symptom 2']\n",
    "del data['Symptom 3']\n",
    "del data['Symptom 4']\n",
    "del data['Symptom 5']\n",
    "del data['Patient First Name']\n",
    "del data[\"Mother's age\"]\n",
    "del data[\"Autopsy shows birth defect (if applicable)\"]\n",
    "del data[\"Place of birth\"]\n",
    "del data[\"Disorder Subclass\"]"
   ]
  },
  {
   "cell_type": "code",
   "execution_count": null,
   "id": "4a2a9990",
   "metadata": {},
   "outputs": [],
   "source": [
    "# Check the top values\n",
    "data.head()"
   ]
  },
  {
   "cell_type": "code",
   "execution_count": null,
   "id": "4911e309",
   "metadata": {},
   "outputs": [],
   "source": [
    "# Remove the null values\n",
    "df = data.dropna()"
   ]
  },
  {
   "cell_type": "code",
   "execution_count": null,
   "id": "dd243821",
   "metadata": {
    "scrolled": false
   },
   "outputs": [],
   "source": [
    "# Check the total number of null values.\n",
    "df.isnull().sum()"
   ]
  },
  {
   "cell_type": "code",
   "execution_count": null,
   "id": "3a7808e3",
   "metadata": {},
   "outputs": [],
   "source": [
    "# Transform the datasets  string value into integers values or float value(Label encoder)\n",
    "from sklearn.preprocessing import LabelEncoder\n",
    "\n",
    "le = LabelEncoder()\n",
    "\n",
    "col = [\"Patient Age\", \"Genes in mother's side\",'White Blood cell count (thousand per microliter)', 'Paternal gene','Blood cell count (mcL)', 'Respiratory Rate (breaths/min)', 'Heart Rate (rates/min','Parental consent', 'Follow-up', 'Gender', 'Folic acid details (peri-conceptional)','H/O serious maternal illness', 'H/O substance abuse', 'Assisted conception IVF/ART', 'Blood test result', 'Genetic Disorder','Inherited from father', 'Maternal gene']\n",
    "\n",
    "for i in col:\n",
    "    df[i] = le.fit_transform(df[i]).astype(int)"
   ]
  },
  {
   "cell_type": "code",
   "execution_count": null,
   "id": "a60113ea",
   "metadata": {},
   "outputs": [],
   "source": [
    "# Check the data relationships\n",
    "df.head()"
   ]
  },
  {
   "cell_type": "code",
   "execution_count": null,
   "id": "b6d2a223",
   "metadata": {},
   "outputs": [],
   "source": [
    "# Check the unique values in specific columns\n",
    "df['Genetic Disorder'].unique()"
   ]
  },
  {
   "cell_type": "code",
   "execution_count": null,
   "id": "2effc45f",
   "metadata": {},
   "outputs": [],
   "source": [
    "x1 = df.drop(labels='Genetic Disorder',axis=1)\n",
    "y1 = df.loc[:,'Genetic Disorder']"
   ]
  },
  {
   "cell_type": "code",
   "execution_count": null,
   "id": "12cd319a",
   "metadata": {},
   "outputs": [],
   "source": [
    "import imblearn\n",
    "from imblearn.over_sampling import RandomOverSampler\n",
    "from collections import Counter\n",
    "\n",
    "ros =RandomOverSampler(random_state=1)\n",
    "x,y=ros.fit_resample(x1,y1)\n",
    "print(\"OUR DATASET COUNT         : \", Counter(y1))\n",
    "print(\"OVER SAMPLING DATA COUNT  : \", Counter(y))"
   ]
  },
  {
   "cell_type": "code",
   "execution_count": null,
   "id": "e945dc81",
   "metadata": {},
   "outputs": [],
   "source": [
    "from sklearn.model_selection import train_test_split\n",
    "\n",
    "x_train,x_test, y_train, y_test = train_test_split(x,y, test_size=0.20, shuffle=False) "
   ]
  },
  {
   "cell_type": "code",
   "execution_count": null,
   "id": "6b5ee475",
   "metadata": {},
   "outputs": [],
   "source": [
    "from sklearn.ensemble import BaggingClassifier\n",
    "clf = BaggingClassifier()\n",
    "clf.fit(x_train, y_train)\n",
    "predicted =clf.predict(x_test)\n"
   ]
  },
  {
   "cell_type": "code",
   "execution_count": null,
   "id": "0be92386",
   "metadata": {},
   "outputs": [],
   "source": [
    "from sklearn.metrics import confusion_matrix\n",
    "cm = confusion_matrix(y_test,predicted)\n",
    "print('THE CONFUSION MATRIX SCORE OF BAGGING CLASSIFIER:\\n\\n\\n',cm)"
   ]
  },
  {
   "cell_type": "code",
   "execution_count": null,
   "id": "226b054a-51e3-4da9-8a8f-16dc75fb2a7e",
   "metadata": {},
   "outputs": [],
   "source": [
    "from sklearn.model_selection import cross_val_score\n",
    "accuracy = cross_val_score(clf, x1, y1, scoring='accuracy')\n",
    "print('THE CROSS VALIDATION TEST RESULT OF ACCURACY :\\n\\n\\n', accuracy*100)"
   ]
  },
  {
   "cell_type": "code",
   "execution_count": null,
   "id": "89d6f008-2f95-492e-a7bf-dc6110925cd0",
   "metadata": {},
   "outputs": [],
   "source": [
    "from sklearn.metrics import accuracy_score\n",
    "a = accuracy_score(y_test,predicted)\n",
    "print(\"THE ACCURACY SCORE OF BAGGING CLASSIFIER IS :\",a*100)"
   ]
  },
  {
   "cell_type": "code",
   "execution_count": null,
   "id": "9d479523-a919-40c1-aef1-d47496541aac",
   "metadata": {},
   "outputs": [],
   "source": [
    "from sklearn.metrics import hamming_loss\n",
    "hl = hamming_loss(y_test,predicted)\n",
    "\n",
    "print(\"THE HAMMING LOSS OF BAGGING CLASSIFIER IS :\",hl*100)"
   ]
  },
  {
   "cell_type": "code",
   "execution_count": null,
   "id": "32c552a5",
   "metadata": {},
   "outputs": [],
   "source": [
    "from sklearn.metrics import classification_report\n",
    "\n",
    "report = classification_report(y_test, predicted)\n",
    "print(\"Classification Report\\n\\n\",report)"
   ]
  },
  {
   "cell_type": "code",
   "execution_count": null,
   "id": "0039a495",
   "metadata": {},
   "outputs": [],
   "source": [
    "import numpy as np\n",
    "def plot_confusion_matrix(cm, title='THE CONFUSION MATRIX SCORE OF BAGGING CLASSIFIER\\n\\n', cmap=plt.cm.Blues):\n",
    "    target_names=['']\n",
    "    plt.imshow(cm, interpolation='nearest', cmap=cmap)\n",
    "    plt.title(title)\n",
    "    plt.colorbar()\n",
    "    tick_marks = np.arange(len(target_names))\n",
    "    plt.xticks(tick_marks, target_names, rotation=45)\n",
    "    plt.yticks(tick_marks, target_names)\n",
    "    plt.tight_layout()\n",
    "    plt.ylabel('True label')\n",
    "    plt.xlabel('Predicted label')\n",
    "\n",
    "cm=confusion_matrix(y_test, predicted)\n",
    "print('THE CONFUSION MATRIX SCORE OF BAGGING CLASSIFIER:\\n\\n')\n",
    "print(cm)\n",
    "\n",
    "sns.heatmap(cm/np.sum(cm), annot=True, cmap = 'cividis', annot_kws={\"size\": 16},fmt='.2%')\n",
    "plt.show()"
   ]
  },
  {
   "cell_type": "code",
   "execution_count": null,
   "id": "1811dd58",
   "metadata": {},
   "outputs": [],
   "source": [
    "def graph():\n",
    "    import matplotlib.pyplot as plt\n",
    "    data=[a]\n",
    "    alg=\"BAGGING CLASSIFIER\"\n",
    "    plt.figure(figsize=(5,5))\n",
    "    b=plt.bar(alg,data,color=(\"pink\"))\n",
    "    plt.title(\"THE ACCURACY SCORE OF BAGGING CLASSIFIER IS\\n\\n\\n\")\n",
    "    plt.legend(b,data,fontsize=9)\n",
    "graph()"
   ]
  },
  {
   "cell_type": "code",
   "execution_count": null,
   "id": "d1eae1d8",
   "metadata": {},
   "outputs": [],
   "source": []
  }
 ],
 "metadata": {
  "kernelspec": {
   "display_name": "Python 3 (ipykernel)",
   "language": "python",
   "name": "python3"
  },
  "language_info": {
   "codemirror_mode": {
    "name": "ipython",
    "version": 3
   },
   "file_extension": ".py",
   "mimetype": "text/x-python",
   "name": "python",
   "nbconvert_exporter": "python",
   "pygments_lexer": "ipython3",
   "version": "3.10.9"
  }
 },
 "nbformat": 4,
 "nbformat_minor": 5
}
